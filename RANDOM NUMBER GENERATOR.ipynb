{
 "cells": [
  {
   "cell_type": "code",
   "execution_count": null,
   "id": "ad534c37",
   "metadata": {},
   "outputs": [
    {
     "name": "stdout",
     "output_type": "stream",
     "text": [
      "Welcome to the random number game!\n"
     ]
    }
   ],
   "source": [
    "import random\n",
    "\n",
    "class Guessing_game:\n",
    "    \n",
    "    def __init__(self):\n",
    "        self.lower = 1\n",
    "        self.higher = 10\n",
    "        \n",
    "    def random_number(self):\n",
    "        return random.randint(1,10)\n",
    "    def start(self):\n",
    "        random_num = self.random_number()\n",
    "        \n",
    "        print(\"Welcome to the random number game!\")\n",
    "        \n",
    "        chances = 1\n",
    "        while True:\n",
    "            user_number = int(input(\"Choose your best guess!: \"))\n",
    "        \n",
    "            if user_number == random_num:\n",
    "                print(f\"Congrats, you win! It took you{chances + 1} step{'s' if chances > 1 else ''}\")\n",
    "                break\n",
    "            elif user_number > random_num:\n",
    "                print(\"Sorry, too high!\")\n",
    "            else:\n",
    "                print(\"Sorry! Too low.\")\n",
    "                chances +=1\n",
    "            \n",
    "guessing_game = Guessing_game()\n",
    "guessing_game.start()\n",
    "            "
   ]
  },
  {
   "cell_type": "markdown",
   "id": "0f0f7fbf",
   "metadata": {},
   "source": []
  },
  {
   "cell_type": "code",
   "execution_count": null,
   "id": "af0416c4",
   "metadata": {},
   "outputs": [],
   "source": []
  },
  {
   "cell_type": "code",
   "execution_count": null,
   "id": "788d50d1",
   "metadata": {},
   "outputs": [],
   "source": []
  },
  {
   "cell_type": "code",
   "execution_count": 66,
   "id": "c15b30e5",
   "metadata": {},
   "outputs": [],
   "source": []
  },
  {
   "cell_type": "code",
   "execution_count": 67,
   "id": "ca44eb0e",
   "metadata": {},
   "outputs": [],
   "source": []
  },
  {
   "cell_type": "code",
   "execution_count": 68,
   "id": "3b8d12f5",
   "metadata": {},
   "outputs": [],
   "source": []
  },
  {
   "cell_type": "code",
   "execution_count": null,
   "id": "0db3efe5",
   "metadata": {},
   "outputs": [],
   "source": [
    "\n"
   ]
  },
  {
   "cell_type": "code",
   "execution_count": null,
   "id": "0a31398b",
   "metadata": {},
   "outputs": [],
   "source": []
  }
 ],
 "metadata": {
  "kernelspec": {
   "display_name": "Python 3 (ipykernel)",
   "language": "python",
   "name": "python3"
  },
  "language_info": {
   "codemirror_mode": {
    "name": "ipython",
    "version": 3
   },
   "file_extension": ".py",
   "mimetype": "text/x-python",
   "name": "python",
   "nbconvert_exporter": "python",
   "pygments_lexer": "ipython3",
   "version": "3.10.4"
  }
 },
 "nbformat": 4,
 "nbformat_minor": 5
}
